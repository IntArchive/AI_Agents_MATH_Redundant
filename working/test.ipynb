{
 "cells": [
  {
   "cell_type": "code",
   "execution_count": 35,
   "id": "29dae019",
   "metadata": {},
   "outputs": [],
   "source": [
    "import glob\n",
    "import pandas as pd"
   ]
  },
  {
   "cell_type": "code",
   "execution_count": null,
   "id": "9530c7b3",
   "metadata": {},
   "outputs": [],
   "source": [
    "# Get all matching JSON file paths C:\\Users\\haidm18\\Documents\\My_git\\ma_IMO\\working\\result_task_*.json\n",
    "file_paths = glob.glob(r'C:\\Users\\haidm18\\Documents\\My_git\\ma_IMO\\working\\result_task_*.json')"
   ]
  },
  {
   "cell_type": "code",
   "execution_count": null,
   "id": "56fd84f4",
   "metadata": {},
   "outputs": [],
   "source": [
    "pd.read_json(file_paths[1], orient = \"index\").T"
   ]
  },
  {
   "cell_type": "code",
   "execution_count": null,
   "id": "ec23ba92",
   "metadata": {},
   "outputs": [],
   "source": [
    "# Correct the code using pd.read_json(fp, orient = \"index\").T, this will create a DataFrame for each JSON file with one row.\n",
    "df = pd.concat([pd.read_json(fp, orient = \"index\").T for fp in file_paths], ignore_index=True)\n",
    "# This will concatenate all DataFrames into a single DataFrame, with each JSON file represented as a separate row.\n",
    "df.head()"
   ]
  },
  {
   "cell_type": "code",
   "execution_count": 124,
   "id": "2dff3500",
   "metadata": {},
   "outputs": [],
   "source": [
    "# Modify function using a = rfind(\"Assumption\"), b = rfind(\"Problem\") and return text[a+len(\"Assumption\"):b].strip()\n",
    "def extract_redundant_assumptions(text, **kargs):\n",
    "    # Modify function using a = rfind(\"Assumption\"), b = rfind(\"Problem\") and return text[a+len(\"Assumption\"):b].strip()\n",
    "    premise = text.rfind(\"Assumption\")\n",
    "    prob = text.rfind(\"Problem\")\n",
    "    atext = text[premise + len(\"Assumption\"):prob].strip()\n",
    "    redundant_assumption = atext[atext.find(\": \") + 2:].strip()\n",
    "    return redundant_assumption\n",
    "\n",
    "def extract_assumptions(text, **kargs):\n",
    "    # Modify function using a = rfind(\"Assumption\"), b = rfind(\"Problem\") and return text[a+len(\"Assumption\"):b].strip()\n",
    "    premise = text.rfind(\"Assumption\")\n",
    "    prob = text.rfind(\"Problem\")\n",
    "    redundant_assumption = text[premise:prob]\n",
    "    return text.replace(redundant_assumption, \"\")"
   ]
  },
  {
   "cell_type": "code",
   "execution_count": 126,
   "id": "f84f04dc",
   "metadata": {},
   "outputs": [],
   "source": [
    "from utils.table_cl import Table"
   ]
  },
  {
   "cell_type": "code",
   "execution_count": 127,
   "id": "e40c2903",
   "metadata": {},
   "outputs": [],
   "source": [
    "# DataFrame df Apply Table().apply_functions_to_columns\n",
    "# column input = \"Problem_with_redundant_assumption\"\n",
    "# column output = \"Redundant_assumption\"\n",
    "# function_respective_col_output = extract_assumptions\n",
    "col_input = [\"Problem_with_redundant_assumption\", \"Problem_with_redundant_assumption\"]\n",
    "col_output = [\"Redundant_assumption\", \"Original_Problem_with_numerical_assumption\"]\n",
    "function_respective_col_output = [extract_redundant_assumptions, extract_assumptions]\n",
    "df = Table().apply_functions_to_columns(df, col_input, col_output, *function_respective_col_output)"
   ]
  },
  {
   "cell_type": "code",
   "execution_count": 139,
   "id": "da014035",
   "metadata": {},
   "outputs": [],
   "source": [
    "# Save df to xlsx\n",
    "df.to_excel(r'C:\\Users\\haidm18\\Documents\\My_git\\ma_IMO\\working\\result_task_all.xlsx', index=False)\n"
   ]
  },
  {
   "cell_type": "code",
   "execution_count": null,
   "id": "16fc7e99",
   "metadata": {},
   "outputs": [],
   "source": [
    "d = pd.read_excel()"
   ]
  }
 ],
 "metadata": {
  "language_info": {
   "name": "python"
  }
 },
 "nbformat": 4,
 "nbformat_minor": 5
}
